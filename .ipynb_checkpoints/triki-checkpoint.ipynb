{
 "cells": [
  {
   "cell_type": "code",
   "execution_count": 1,
   "metadata": {},
   "outputs": [],
   "source": [
    "\"\"\"\n",
    "Definimos una lista que se llama turno con los valores de cada jugador\n",
    "y creamos el tablero\n",
    "\"\"\"\n",
    "\n",
    "turno = [\"O\", \"X\"]\n",
    "tablero = [\n",
    "    [\" \", \" \", \" \"],\n",
    "    [\" \", \" \", \" \"],\n",
    "    [\" \", \" \", \" \"]\n",
    "]\n",
    "\n"
   ]
  },
  {
   "cell_type": "code",
   "execution_count": 12,
   "metadata": {},
   "outputs": [],
   "source": [
    "#funcion que cambia de turno y devuelve solo el valor de  el jugador.\n",
    "def cambiar_turno():\n",
    "    turno.reverse()\n",
    "    return turno[0]\n",
    "\n",
    "#imprimimos el tablero.\n",
    "def mostrar_tablero():\n",
    "    print(\"\")\n",
    "    for row in tablero:\n",
    "        print(row)\n",
    "\n",
    "\"\"\"\n",
    "con esta funcion dividimos el string que ingresa el usuario, lo convertimos en entero y le quitamos uno a cada uno, \n",
    "ademas con la convertida nos damos cuenta si se puede convertir en numero y si esta en el formato que indicamos\n",
    "\"\"\"\n",
    "def procesar_posicion(posicion):\n",
    "    fila, columna = posicion.split(\",\")\n",
    "    return int(fila) - 1, int(columna) - 1\n",
    "\n",
    "#validamos que la posicion este vacia, y que los numeros ingrasados esten dentro de la posicion de triki\n",
    "def posicion_valida(posicion):\n",
    "    if 0 <= posicion[0] <= 2 and 0 <= posicion[1] <= 2:\n",
    "        if tablero[posicion[0]][posicion[1]] == \" \":\n",
    "            return True\n",
    "    return False\n",
    "\n",
    "#con esto ocupamos la posicion del tablero con el caracter del usuario\n",
    "def actualizar_tablero(posicion, jugador):\n",
    "    tablero[posicion[0]][posicion[1]] = jugador\n",
    "\n",
    "\n",
    "#con esta funcion valdiamos que el tablero esta lleno con el caracter del usuario, en un orden logico\n",
    "def evaluar_victoria(j):\n",
    "    if tablero[0] == [j, j, j] or tablero[1] == [j, j, j] or tablero[2] == [j, j, j]:\n",
    "        return True\n",
    "    elif tablero[0][0] == j and tablero[1][0] == j and tablero[2][0] == j:\n",
    "        return True\n",
    "    elif tablero[0][1] == j and tablero[1][1] == j and tablero[2][1] == j:\n",
    "        return True\n",
    "    elif tablero[0][2] == j and tablero[1][2] == j and tablero[2][2] == j:\n",
    "        return True\n",
    "    elif tablero[0][0] == j and tablero[1][1] == j and tablero[2][2] == j:\n",
    "        return True\n",
    "    elif tablero[0][2] == j and tablero[1][1] == j and tablero[2][0] == j:\n",
    "        return True\n",
    "    return False\n",
    "\n",
    "#validamos si el tablero esta lleno por completo\n",
    "def evaluar_empate():\n",
    "    return set(tablero[0]).union(set(tablero[1])).union(set(tablero[2])) == set([\"X\", \"O\"])\n",
    "#con esta funcion reinicio la lista tablero\n",
    "def limpiar_tablero():\n",
    "    tablero = [\n",
    "    [\" \", \" \", \" \"],\n",
    "    [\" \", \" \", \" \"],\n",
    "    [\" \", \" \", \" \"]\n",
    "    ]\n",
    "    return tablero"
   ]
  },
  {
   "cell_type": "code",
   "execution_count": 5,
   "metadata": {},
   "outputs": [],
   "source": [
    "def juego():\n",
    "    #obtenemos el caracter del jugador inicial\n",
    "    jugador = cambiar_turno()\n",
    "    #iniciamos un bucle que siempre este activo\n",
    "    while True:\n",
    "        #capturamos los datos por el usaurio.\n",
    "        posicion_str = input(\"Jugador {}, elige una posición (fila,columna) de 1 a 3. 'salir' para salir: \".format(jugador))\n",
    "        #convertimso todo en minuscula\n",
    "        posicion_str = posicion_str.lower()\n",
    "        #validamos que no sea la pabra salida para detener el juego\n",
    "        if posicion_str == \"salir\":\n",
    "            print(\"Adios!\")\n",
    "            break\n",
    "        #con un try procesamos el ingreso para que sea caracteres validos, como mencione en la funcion que sean numero y se puedan convertir a entreos\n",
    "        try:\n",
    "            posicion_procesada = procesar_posicion(posicion_str)\n",
    "        #si no imprimimos un mensaje de error y repetimos el proceso\n",
    "        except:\n",
    "            print(\"Error, posicion {} no es válida. formato debe ser (fila, columna)\".format(posicion_str))\n",
    "            continue\n",
    "        #validamos que la posicion sea valida,(que no este lleno el campo y que los numeros )\n",
    "        if posicion_valida(posicion_procesada):\n",
    "            #en caso de pasar la validacion, ocupamos el campo\n",
    "            actualizar_tablero(posicion_procesada, jugador)\n",
    "            #imprimimos el tablero\n",
    "            mostrar_tablero()\n",
    "            #evaluamos i el jugador que acabo de jugar gano\n",
    "            if evaluar_victoria(jugador):\n",
    "                print(\"Jugador {} ha ganado!.\\nAdios!\".format(jugador))\n",
    "                break\n",
    "            #evaluamos si quedan casillas si todas las casillas estan llenas para declarar el empate, si no continuamos jugando \n",
    "            if evaluar_empate():\n",
    "                print(\"Empate!.\\nAdios!\")\n",
    "                break\n",
    "            #cambiamos de jugador, y repetimos el proceso\n",
    "            jugador = cambiar_turno()\n",
    "        #en caso de no cumplir ninguna validacion quiere decir la posicion no es valida\n",
    "        else:\n",
    "            print(\"Posicion {} no válida\".format(posicion_str))\n",
    "            \n"
   ]
  },
  {
   "cell_type": "code",
   "execution_count": 10,
   "metadata": {},
   "outputs": [
    {
     "name": "stdin",
     "output_type": "stream",
     "text": [
      "Jugador X, elige una posición (fila,columna) de 1 a 3. 'salir' para salir:  a,,b\n"
     ]
    },
    {
     "name": "stdout",
     "output_type": "stream",
     "text": [
      "Error, posicion a,,b no es válida. formato debe ser (fila, columna)\n"
     ]
    },
    {
     "name": "stdin",
     "output_type": "stream",
     "text": [
      "Jugador X, elige una posición (fila,columna) de 1 a 3. 'salir' para salir:  a,b\n"
     ]
    },
    {
     "name": "stdout",
     "output_type": "stream",
     "text": [
      "Error, posicion a,b no es válida. formato debe ser (fila, columna)\n"
     ]
    },
    {
     "name": "stdin",
     "output_type": "stream",
     "text": [
      "Jugador X, elige una posición (fila,columna) de 1 a 3. 'salir' para salir:  *\n"
     ]
    },
    {
     "name": "stdout",
     "output_type": "stream",
     "text": [
      "Error, posicion * no es válida. formato debe ser (fila, columna)\n"
     ]
    },
    {
     "name": "stdin",
     "output_type": "stream",
     "text": [
      "Jugador X, elige una posición (fila,columna) de 1 a 3. 'salir' para salir:  +-\n"
     ]
    },
    {
     "name": "stdout",
     "output_type": "stream",
     "text": [
      "Error, posicion +- no es válida. formato debe ser (fila, columna)\n"
     ]
    },
    {
     "name": "stdin",
     "output_type": "stream",
     "text": [
      "Jugador X, elige una posición (fila,columna) de 1 a 3. 'salir' para salir:  10,10\n"
     ]
    },
    {
     "name": "stdout",
     "output_type": "stream",
     "text": [
      "Posicion 10,10 no válida\n"
     ]
    },
    {
     "name": "stdin",
     "output_type": "stream",
     "text": [
      "Jugador X, elige una posición (fila,columna) de 1 a 3. 'salir' para salir:  salir\n"
     ]
    },
    {
     "name": "stdout",
     "output_type": "stream",
     "text": [
      "Adios!\n"
     ]
    }
   ],
   "source": [
    "#se reinicia el tablero para juegar cada vez que se inicia el programa\n",
    "tablero=limpiar_tablero()\n",
    "juego()\n"
   ]
  },
  {
   "cell_type": "code",
   "execution_count": null,
   "metadata": {},
   "outputs": [],
   "source": []
  }
 ],
 "metadata": {
  "kernelspec": {
   "display_name": "Python 3",
   "language": "python",
   "name": "python3"
  },
  "language_info": {
   "codemirror_mode": {
    "name": "ipython",
    "version": 3
   },
   "file_extension": ".py",
   "mimetype": "text/x-python",
   "name": "python",
   "nbconvert_exporter": "python",
   "pygments_lexer": "ipython3",
   "version": "3.7.4"
  }
 },
 "nbformat": 4,
 "nbformat_minor": 4
}
